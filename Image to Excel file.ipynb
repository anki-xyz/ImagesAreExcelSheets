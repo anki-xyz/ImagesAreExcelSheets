{
 "cells": [
  {
   "cell_type": "markdown",
   "metadata": {},
   "source": [
    "This Jupiter notebook uses the [photograph of NASA astronaut Eileen Collins available through scikit-image](https://scikit-image.org/docs/dev/api/skimage.data.html#skimage.data.astronaut). It creates an Excel sheet containing five workbooks to illustrate that images are similar to Excel-Sheets:\n",
    "\n",
    "* The RGB image with three rows stacked for each px\n",
    "* The red channel\n",
    "* The green channel\n",
    "* The blue channel\n",
    "* The luminance channel (weighted average of red, green and blue)\n",
    "\n",
    "It is saved as Excel (xlsx) file."
   ]
  },
  {
   "cell_type": "code",
   "execution_count": 1,
   "metadata": {},
   "outputs": [
    {
     "data": {
      "text/plain": [
       "(256, 256, 3)"
      ]
     },
     "execution_count": 1,
     "metadata": {},
     "output_type": "execute_result"
    }
   ],
   "source": [
    "# Interact with Excel sheet\n",
    "import xlsxwriter\n",
    "\n",
    "# Get and manipulate images\n",
    "from skimage.data import astronaut\n",
    "from skimage.transform import resize\n",
    "from skimage.color import rgb2gray\n",
    "# Data manipulation, math stuff\n",
    "import numpy as np\n",
    "# Fancy progressbar\n",
    "from tqdm.notebook import tqdm\n",
    "\n",
    "# Load astronaut image and rescale it, so it fits nicely the Excel sheet\n",
    "a = astronaut()\n",
    "a = resize(a, (256,256), preserve_range=True).astype(np.uint8)\n",
    "a.shape"
   ]
  },
  {
   "cell_type": "markdown",
   "metadata": {},
   "source": [
    "Create a new Excel file"
   ]
  },
  {
   "cell_type": "code",
   "execution_count": 2,
   "metadata": {},
   "outputs": [],
   "source": [
    "wb = xlsxwriter.Workbook(\"astronaut.xlsx\")"
   ]
  },
  {
   "cell_type": "markdown",
   "metadata": {},
   "source": [
    "# RGB image"
   ]
  },
  {
   "cell_type": "code",
   "execution_count": 3,
   "metadata": {},
   "outputs": [
    {
     "data": {
      "application/vnd.jupyter.widget-view+json": {
       "model_id": "b17cbe1280334427ad3739b8a76c037f",
       "version_major": 2,
       "version_minor": 0
      },
      "text/html": [
       "<p>Failed to display Jupyter Widget of type <code>HBox</code>.</p>\n",
       "<p>\n",
       "  If you're reading this message in the Jupyter Notebook or JupyterLab Notebook, it may mean\n",
       "  that the widgets JavaScript is still loading. If this message persists, it\n",
       "  likely means that the widgets JavaScript library is either not installed or\n",
       "  not enabled. See the <a href=\"https://ipywidgets.readthedocs.io/en/stable/user_install.html\">Jupyter\n",
       "  Widgets Documentation</a> for setup instructions.\n",
       "</p>\n",
       "<p>\n",
       "  If you're reading this message in another frontend (for example, a static\n",
       "  rendering on GitHub or <a href=\"https://nbviewer.jupyter.org/\">NBViewer</a>),\n",
       "  it may mean that your frontend doesn't currently support widgets.\n",
       "</p>\n"
      ],
      "text/plain": [
       "HBox(children=(FloatProgress(value=0.0, max=256.0), HTML(value='')))"
      ]
     },
     "metadata": {},
     "output_type": "display_data"
    },
    {
     "name": "stdout",
     "output_type": "stream",
     "text": [
      "\n"
     ]
    }
   ],
   "source": [
    "ws = wb.add_worksheet(\"RGB\")\n",
    "\n",
    "# Iterate over rows and cols and colors\n",
    "for row in tqdm(range(0, a.shape[0])):\n",
    "    for col in range(a.shape[1]):\n",
    "        for c in range(a.shape[2]):\n",
    "            cell_format = wb.add_format()\n",
    "            cell_format.set_pattern(1)  # This is optional when using a solid fill.\n",
    "            \n",
    "            # Specify color\n",
    "            if c == 0:\n",
    "                color = (a[row,col,c], 0, 0)\n",
    "            elif c == 1:\n",
    "                color = (0, a[row,col,c], 0)\n",
    "            else:\n",
    "                color = (0, 0, a[row,col,c])\n",
    "            \n",
    "            cell_format.set_bg_color('#%02x%02x%02x' % color)\n",
    "            \n",
    "            ws.write(row*3+c, col, a[row, col, c], cell_format)"
   ]
  },
  {
   "cell_type": "markdown",
   "metadata": {},
   "source": [
    "# Individual colors"
   ]
  },
  {
   "cell_type": "code",
   "execution_count": 4,
   "metadata": {},
   "outputs": [
    {
     "name": "stdout",
     "output_type": "stream",
     "text": [
      "R channel, ...\n"
     ]
    },
    {
     "data": {
      "application/vnd.jupyter.widget-view+json": {
       "model_id": "a7640a93aa5d48b69e208e52608358ee",
       "version_major": 2,
       "version_minor": 0
      },
      "text/html": [
       "<p>Failed to display Jupyter Widget of type <code>HBox</code>.</p>\n",
       "<p>\n",
       "  If you're reading this message in the Jupyter Notebook or JupyterLab Notebook, it may mean\n",
       "  that the widgets JavaScript is still loading. If this message persists, it\n",
       "  likely means that the widgets JavaScript library is either not installed or\n",
       "  not enabled. See the <a href=\"https://ipywidgets.readthedocs.io/en/stable/user_install.html\">Jupyter\n",
       "  Widgets Documentation</a> for setup instructions.\n",
       "</p>\n",
       "<p>\n",
       "  If you're reading this message in another frontend (for example, a static\n",
       "  rendering on GitHub or <a href=\"https://nbviewer.jupyter.org/\">NBViewer</a>),\n",
       "  it may mean that your frontend doesn't currently support widgets.\n",
       "</p>\n"
      ],
      "text/plain": [
       "HBox(children=(FloatProgress(value=0.0, max=256.0), HTML(value='')))"
      ]
     },
     "metadata": {},
     "output_type": "display_data"
    },
    {
     "name": "stdout",
     "output_type": "stream",
     "text": [
      "\n",
      "G channel, ...\n"
     ]
    },
    {
     "data": {
      "application/vnd.jupyter.widget-view+json": {
       "model_id": "4ae48c5860df443eb563dc814eca13a9",
       "version_major": 2,
       "version_minor": 0
      },
      "text/html": [
       "<p>Failed to display Jupyter Widget of type <code>HBox</code>.</p>\n",
       "<p>\n",
       "  If you're reading this message in the Jupyter Notebook or JupyterLab Notebook, it may mean\n",
       "  that the widgets JavaScript is still loading. If this message persists, it\n",
       "  likely means that the widgets JavaScript library is either not installed or\n",
       "  not enabled. See the <a href=\"https://ipywidgets.readthedocs.io/en/stable/user_install.html\">Jupyter\n",
       "  Widgets Documentation</a> for setup instructions.\n",
       "</p>\n",
       "<p>\n",
       "  If you're reading this message in another frontend (for example, a static\n",
       "  rendering on GitHub or <a href=\"https://nbviewer.jupyter.org/\">NBViewer</a>),\n",
       "  it may mean that your frontend doesn't currently support widgets.\n",
       "</p>\n"
      ],
      "text/plain": [
       "HBox(children=(FloatProgress(value=0.0, max=256.0), HTML(value='')))"
      ]
     },
     "metadata": {},
     "output_type": "display_data"
    },
    {
     "name": "stdout",
     "output_type": "stream",
     "text": [
      "\n",
      "B channel, ...\n"
     ]
    },
    {
     "data": {
      "application/vnd.jupyter.widget-view+json": {
       "model_id": "16f91746c84d4bdc93080f40a82a5e61",
       "version_major": 2,
       "version_minor": 0
      },
      "text/html": [
       "<p>Failed to display Jupyter Widget of type <code>HBox</code>.</p>\n",
       "<p>\n",
       "  If you're reading this message in the Jupyter Notebook or JupyterLab Notebook, it may mean\n",
       "  that the widgets JavaScript is still loading. If this message persists, it\n",
       "  likely means that the widgets JavaScript library is either not installed or\n",
       "  not enabled. See the <a href=\"https://ipywidgets.readthedocs.io/en/stable/user_install.html\">Jupyter\n",
       "  Widgets Documentation</a> for setup instructions.\n",
       "</p>\n",
       "<p>\n",
       "  If you're reading this message in another frontend (for example, a static\n",
       "  rendering on GitHub or <a href=\"https://nbviewer.jupyter.org/\">NBViewer</a>),\n",
       "  it may mean that your frontend doesn't currently support widgets.\n",
       "</p>\n"
      ],
      "text/plain": [
       "HBox(children=(FloatProgress(value=0.0, max=256.0), HTML(value='')))"
      ]
     },
     "metadata": {},
     "output_type": "display_data"
    },
    {
     "name": "stdout",
     "output_type": "stream",
     "text": [
      "\n"
     ]
    }
   ],
   "source": [
    "for c, cn in enumerate(list(\"RGB\")):\n",
    "    print(f\"{cn} channel, ...\")\n",
    "    ws = wb.add_worksheet(cn)\n",
    "\n",
    "    for row in tqdm(range(0, a.shape[0])):\n",
    "        # Make row a roughly square px\n",
    "        ws.set_row(row, 45)\n",
    "        \n",
    "        for col in range(a.shape[1]):\n",
    "            cell_format = wb.add_format()\n",
    "            cell_format.set_pattern(1)  # This is optional when using a solid fill.\n",
    "\n",
    "            # Give it a grayscale color\n",
    "            color = (a[row,col,c], a[row,col,c], a[row,col,c])\n",
    "\n",
    "            cell_format.set_bg_color('#%02x%02x%02x' % color)\n",
    "\n",
    "            ws.write(row, col, a[row, col, c], cell_format)"
   ]
  },
  {
   "cell_type": "markdown",
   "metadata": {},
   "source": [
    "# Luminance channel"
   ]
  },
  {
   "cell_type": "code",
   "execution_count": 5,
   "metadata": {},
   "outputs": [
    {
     "name": "stdout",
     "output_type": "stream",
     "text": [
      "Y channel, ...\n"
     ]
    },
    {
     "data": {
      "application/vnd.jupyter.widget-view+json": {
       "model_id": "4daf0ca11c0640be9ed8d0e7c52c03a5",
       "version_major": 2,
       "version_minor": 0
      },
      "text/html": [
       "<p>Failed to display Jupyter Widget of type <code>HBox</code>.</p>\n",
       "<p>\n",
       "  If you're reading this message in the Jupyter Notebook or JupyterLab Notebook, it may mean\n",
       "  that the widgets JavaScript is still loading. If this message persists, it\n",
       "  likely means that the widgets JavaScript library is either not installed or\n",
       "  not enabled. See the <a href=\"https://ipywidgets.readthedocs.io/en/stable/user_install.html\">Jupyter\n",
       "  Widgets Documentation</a> for setup instructions.\n",
       "</p>\n",
       "<p>\n",
       "  If you're reading this message in another frontend (for example, a static\n",
       "  rendering on GitHub or <a href=\"https://nbviewer.jupyter.org/\">NBViewer</a>),\n",
       "  it may mean that your frontend doesn't currently support widgets.\n",
       "</p>\n"
      ],
      "text/plain": [
       "HBox(children=(FloatProgress(value=0.0, max=256.0), HTML(value='')))"
      ]
     },
     "metadata": {},
     "output_type": "display_data"
    },
    {
     "name": "stdout",
     "output_type": "stream",
     "text": [
      "\n"
     ]
    }
   ],
   "source": [
    "cn = \"Y\"\n",
    "print(f\"{cn} channel, ...\")\n",
    "ws = wb.add_worksheet(cn)\n",
    "\n",
    "for row in tqdm(range(0, a.shape[0])):\n",
    "    # Make row a roughly square px\n",
    "    ws.set_row(row, 45)\n",
    "    for col in range(a.shape[1]):\n",
    "        cell_format = wb.add_format()\n",
    "        cell_format.set_pattern(1)  # This is optional when using a solid fill.\n",
    "\n",
    "        # Extract luminance channel\n",
    "        y = (rgb2gray(a[row, col, None, None]).squeeze()*255).astype(np.uint8)\n",
    "        \n",
    "        # Grayscale color\n",
    "        color = (y, y, y)\n",
    "\n",
    "        cell_format.set_bg_color('#%02x%02x%02x' % color)\n",
    "\n",
    "        ws.write(row, col, y, cell_format)"
   ]
  },
  {
   "cell_type": "markdown",
   "metadata": {},
   "source": [
    "Close the file..."
   ]
  },
  {
   "cell_type": "code",
   "execution_count": 6,
   "metadata": {},
   "outputs": [],
   "source": [
    "wb.close()"
   ]
  },
  {
   "cell_type": "markdown",
   "metadata": {},
   "source": [
    "Done!"
   ]
  }
 ],
 "metadata": {
  "kernelspec": {
   "display_name": "Python 3",
   "language": "python",
   "name": "python3"
  },
  "language_info": {
   "codemirror_mode": {
    "name": "ipython",
    "version": 3
   },
   "file_extension": ".py",
   "mimetype": "text/x-python",
   "name": "python",
   "nbconvert_exporter": "python",
   "pygments_lexer": "ipython3",
   "version": "3.6.4"
  },
  "widgets": {
   "application/vnd.jupyter.widget-state+json": {
    "state": {
     "085778a2b4cc44c393a112f146a42bbf": {
      "model_module": "@jupyter-widgets/base",
      "model_module_version": "1.0.0",
      "model_name": "LayoutModel",
      "state": {}
     },
     "09f755db5368411498b5f6c4369ad5da": {
      "model_module": "@jupyter-widgets/base",
      "model_module_version": "1.0.0",
      "model_name": "LayoutModel",
      "state": {}
     },
     "1054060000be4f36af9bd43c507970ae": {
      "model_module": "@jupyter-widgets/base",
      "model_module_version": "1.0.0",
      "model_name": "LayoutModel",
      "state": {}
     },
     "16f91746c84d4bdc93080f40a82a5e61": {
      "model_module": "@jupyter-widgets/controls",
      "model_module_version": "1.1.0",
      "model_name": "HBoxModel",
      "state": {
       "children": [
        "IPY_MODEL_3daba0ac2a2449109429f4df7226685f",
        "IPY_MODEL_3f2f7b0e3f14414eb3fc2106935ff086"
       ],
       "layout": "IPY_MODEL_f8f67453899a429c833a043ac606b6ad"
      }
     },
     "273c3ae6abd14b319733c1f83cf78a42": {
      "model_module": "@jupyter-widgets/controls",
      "model_module_version": "1.1.0",
      "model_name": "FloatProgressModel",
      "state": {
       "bar_style": "success",
       "description": "100%",
       "layout": "IPY_MODEL_bd67477f5d0f4bd7bd605a8cf45a19f7",
       "max": 256,
       "style": "IPY_MODEL_f9dcea1972224c388517365f337b2af0",
       "value": 256
      }
     },
     "29c87a2312e642e1834b4ef368ed17ce": {
      "model_module": "@jupyter-widgets/controls",
      "model_module_version": "1.1.0",
      "model_name": "HTMLModel",
      "state": {
       "layout": "IPY_MODEL_a2a7cc2e69d94fdab611133aecf2756a",
       "style": "IPY_MODEL_dfd6074411e348f393af25e72e27553c",
       "value": " 256/256 [00:04&lt;00:00, 61.46it/s]"
      }
     },
     "301004ad2beb4727bd37b21e65a8b0f8": {
      "model_module": "@jupyter-widgets/controls",
      "model_module_version": "1.1.0",
      "model_name": "FloatProgressModel",
      "state": {
       "bar_style": "success",
       "description": "100%",
       "layout": "IPY_MODEL_d11daf7b24ce449b8fd05a44987ddfdc",
       "max": 256,
       "style": "IPY_MODEL_aa6bb06a4aad4ba298437e645b6846b1",
       "value": 256
      }
     },
     "3053cf27c4aa4ee9a502762a3d627e3e": {
      "model_module": "@jupyter-widgets/base",
      "model_module_version": "1.0.0",
      "model_name": "LayoutModel",
      "state": {}
     },
     "36f2581522134fafa8176efb39977258": {
      "model_module": "@jupyter-widgets/controls",
      "model_module_version": "1.1.0",
      "model_name": "FloatProgressModel",
      "state": {
       "bar_style": "success",
       "description": "100%",
       "layout": "IPY_MODEL_acef4707ae074648b51addfd047be0b1",
       "max": 256,
       "style": "IPY_MODEL_d850953216d94ae59195ee4d6abd1604",
       "value": 256
      }
     },
     "3daba0ac2a2449109429f4df7226685f": {
      "model_module": "@jupyter-widgets/controls",
      "model_module_version": "1.1.0",
      "model_name": "FloatProgressModel",
      "state": {
       "bar_style": "success",
       "description": "100%",
       "layout": "IPY_MODEL_461e55e36cdc405392c5b5784e30e64b",
       "max": 256,
       "style": "IPY_MODEL_82f3e4341b5f438993255479deed1ecd",
       "value": 256
      }
     },
     "3f2f7b0e3f14414eb3fc2106935ff086": {
      "model_module": "@jupyter-widgets/controls",
      "model_module_version": "1.1.0",
      "model_name": "HTMLModel",
      "state": {
       "layout": "IPY_MODEL_1054060000be4f36af9bd43c507970ae",
       "style": "IPY_MODEL_441c0068e7bf4200b9f7aa26d1bf1a32",
       "value": " 256/256 [00:01&lt;00:00, 191.17it/s]"
      }
     },
     "41619a5bb2e1412ab3efbe28ad395d4c": {
      "model_module": "@jupyter-widgets/controls",
      "model_module_version": "1.1.0",
      "model_name": "DescriptionStyleModel",
      "state": {
       "description_width": ""
      }
     },
     "43fffbc311464ccdb0fa10dbaa7b2404": {
      "model_module": "@jupyter-widgets/controls",
      "model_module_version": "1.1.0",
      "model_name": "HTMLModel",
      "state": {
       "layout": "IPY_MODEL_3053cf27c4aa4ee9a502762a3d627e3e",
       "style": "IPY_MODEL_41619a5bb2e1412ab3efbe28ad395d4c",
       "value": " 256/256 [00:02&lt;00:00, 111.69it/s]"
      }
     },
     "441c0068e7bf4200b9f7aa26d1bf1a32": {
      "model_module": "@jupyter-widgets/controls",
      "model_module_version": "1.1.0",
      "model_name": "DescriptionStyleModel",
      "state": {
       "description_width": ""
      }
     },
     "461e55e36cdc405392c5b5784e30e64b": {
      "model_module": "@jupyter-widgets/base",
      "model_module_version": "1.0.0",
      "model_name": "LayoutModel",
      "state": {}
     },
     "4ae48c5860df443eb563dc814eca13a9": {
      "model_module": "@jupyter-widgets/controls",
      "model_module_version": "1.1.0",
      "model_name": "HBoxModel",
      "state": {
       "children": [
        "IPY_MODEL_f14c62e7f3e543659710e0d2e1565c6f",
        "IPY_MODEL_43fffbc311464ccdb0fa10dbaa7b2404"
       ],
       "layout": "IPY_MODEL_b58cf1901b214bc68d13e34e9b924119"
      }
     },
     "4daf0ca11c0640be9ed8d0e7c52c03a5": {
      "model_module": "@jupyter-widgets/controls",
      "model_module_version": "1.1.0",
      "model_name": "HBoxModel",
      "state": {
       "children": [
        "IPY_MODEL_301004ad2beb4727bd37b21e65a8b0f8",
        "IPY_MODEL_b44dcd1dd7dd4e63a6b81fc7c530a4fe"
       ],
       "layout": "IPY_MODEL_f554b55034ce4ebe8ebbdf08baa2f4f6"
      }
     },
     "706fdd5d95ad4756a1b129c68ae006a3": {
      "model_module": "@jupyter-widgets/controls",
      "model_module_version": "1.1.0",
      "model_name": "ProgressStyleModel",
      "state": {
       "description_width": "initial"
      }
     },
     "777365394e1e44ab821a1134ec8d448e": {
      "model_module": "@jupyter-widgets/controls",
      "model_module_version": "1.1.0",
      "model_name": "DescriptionStyleModel",
      "state": {
       "description_width": ""
      }
     },
     "82f3e4341b5f438993255479deed1ecd": {
      "model_module": "@jupyter-widgets/controls",
      "model_module_version": "1.1.0",
      "model_name": "ProgressStyleModel",
      "state": {
       "description_width": "initial"
      }
     },
     "8c3cd7e44aa241268c9a4ad5b16d7ebd": {
      "model_module": "@jupyter-widgets/controls",
      "model_module_version": "1.1.0",
      "model_name": "DescriptionStyleModel",
      "state": {
       "description_width": ""
      }
     },
     "96fd94c6598343a496c694b0a4dfc690": {
      "model_module": "@jupyter-widgets/base",
      "model_module_version": "1.0.0",
      "model_name": "LayoutModel",
      "state": {}
     },
     "a2a7cc2e69d94fdab611133aecf2756a": {
      "model_module": "@jupyter-widgets/base",
      "model_module_version": "1.0.0",
      "model_name": "LayoutModel",
      "state": {}
     },
     "a7640a93aa5d48b69e208e52608358ee": {
      "model_module": "@jupyter-widgets/controls",
      "model_module_version": "1.1.0",
      "model_name": "HBoxModel",
      "state": {
       "children": [
        "IPY_MODEL_36f2581522134fafa8176efb39977258",
        "IPY_MODEL_df95cff245874f0fa842961e00f51582"
       ],
       "layout": "IPY_MODEL_c68ba567ae2b4a95a8af8af2b898940d"
      }
     },
     "aa6bb06a4aad4ba298437e645b6846b1": {
      "model_module": "@jupyter-widgets/controls",
      "model_module_version": "1.1.0",
      "model_name": "ProgressStyleModel",
      "state": {
       "description_width": "initial"
      }
     },
     "acef4707ae074648b51addfd047be0b1": {
      "model_module": "@jupyter-widgets/base",
      "model_module_version": "1.0.0",
      "model_name": "LayoutModel",
      "state": {}
     },
     "b17cbe1280334427ad3739b8a76c037f": {
      "model_module": "@jupyter-widgets/controls",
      "model_module_version": "1.1.0",
      "model_name": "HBoxModel",
      "state": {
       "children": [
        "IPY_MODEL_273c3ae6abd14b319733c1f83cf78a42",
        "IPY_MODEL_29c87a2312e642e1834b4ef368ed17ce"
       ],
       "layout": "IPY_MODEL_085778a2b4cc44c393a112f146a42bbf"
      }
     },
     "b44dcd1dd7dd4e63a6b81fc7c530a4fe": {
      "model_module": "@jupyter-widgets/controls",
      "model_module_version": "1.1.0",
      "model_name": "HTMLModel",
      "state": {
       "layout": "IPY_MODEL_bf173de03c2d442e9c758daa2550c271",
       "style": "IPY_MODEL_8c3cd7e44aa241268c9a4ad5b16d7ebd",
       "value": " 256/256 [00:03&lt;00:00, 78.00it/s]"
      }
     },
     "b58cf1901b214bc68d13e34e9b924119": {
      "model_module": "@jupyter-widgets/base",
      "model_module_version": "1.0.0",
      "model_name": "LayoutModel",
      "state": {}
     },
     "bd67477f5d0f4bd7bd605a8cf45a19f7": {
      "model_module": "@jupyter-widgets/base",
      "model_module_version": "1.0.0",
      "model_name": "LayoutModel",
      "state": {}
     },
     "bf173de03c2d442e9c758daa2550c271": {
      "model_module": "@jupyter-widgets/base",
      "model_module_version": "1.0.0",
      "model_name": "LayoutModel",
      "state": {}
     },
     "c68ba567ae2b4a95a8af8af2b898940d": {
      "model_module": "@jupyter-widgets/base",
      "model_module_version": "1.0.0",
      "model_name": "LayoutModel",
      "state": {}
     },
     "d11daf7b24ce449b8fd05a44987ddfdc": {
      "model_module": "@jupyter-widgets/base",
      "model_module_version": "1.0.0",
      "model_name": "LayoutModel",
      "state": {}
     },
     "d850953216d94ae59195ee4d6abd1604": {
      "model_module": "@jupyter-widgets/controls",
      "model_module_version": "1.1.0",
      "model_name": "ProgressStyleModel",
      "state": {
       "description_width": "initial"
      }
     },
     "df95cff245874f0fa842961e00f51582": {
      "model_module": "@jupyter-widgets/controls",
      "model_module_version": "1.1.0",
      "model_name": "HTMLModel",
      "state": {
       "layout": "IPY_MODEL_96fd94c6598343a496c694b0a4dfc690",
       "style": "IPY_MODEL_777365394e1e44ab821a1134ec8d448e",
       "value": " 256/256 [00:02&lt;00:00, 123.75it/s]"
      }
     },
     "dfd6074411e348f393af25e72e27553c": {
      "model_module": "@jupyter-widgets/controls",
      "model_module_version": "1.1.0",
      "model_name": "DescriptionStyleModel",
      "state": {
       "description_width": ""
      }
     },
     "f14c62e7f3e543659710e0d2e1565c6f": {
      "model_module": "@jupyter-widgets/controls",
      "model_module_version": "1.1.0",
      "model_name": "FloatProgressModel",
      "state": {
       "bar_style": "success",
       "description": "100%",
       "layout": "IPY_MODEL_09f755db5368411498b5f6c4369ad5da",
       "max": 256,
       "style": "IPY_MODEL_706fdd5d95ad4756a1b129c68ae006a3",
       "value": 256
      }
     },
     "f554b55034ce4ebe8ebbdf08baa2f4f6": {
      "model_module": "@jupyter-widgets/base",
      "model_module_version": "1.0.0",
      "model_name": "LayoutModel",
      "state": {}
     },
     "f8f67453899a429c833a043ac606b6ad": {
      "model_module": "@jupyter-widgets/base",
      "model_module_version": "1.0.0",
      "model_name": "LayoutModel",
      "state": {}
     },
     "f9dcea1972224c388517365f337b2af0": {
      "model_module": "@jupyter-widgets/controls",
      "model_module_version": "1.1.0",
      "model_name": "ProgressStyleModel",
      "state": {
       "description_width": "initial"
      }
     }
    },
    "version_major": 2,
    "version_minor": 0
   }
  }
 },
 "nbformat": 4,
 "nbformat_minor": 2
}
